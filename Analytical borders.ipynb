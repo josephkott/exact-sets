{
 "cells": [
  {
   "cell_type": "markdown",
   "metadata": {},
   "source": [
    "# Поиск аналитического выражения для границ множества $\\mathcal{U}_{\\pi}^+$"
   ]
  },
  {
   "cell_type": "markdown",
   "metadata": {},
   "source": [
    "Рассматривается уравнение:\n",
    "$$u_{xx} - u - u^3 = 0.$$\n",
    "Его фазовый портрет схематично изображен на рисунке ниже:"
   ]
  },
  {
   "cell_type": "markdown",
   "metadata": {},
   "source": [
    "<img src=\"borders.png\" alt=\"Drawing\" style=\"width: 300px;\"/>"
   ]
  },
  {
   "cell_type": "markdown",
   "metadata": {},
   "source": [
    "Множество $\\mathcal{U}_{\\pi}^+$ есть множество точек фазовой плоскости, для которых определено отображение Пуанкаре на промежутке за период кусочнопостоянного потенциала.\n",
    "\n",
    "Построим верхнюю границу множества $\\mathcal{U}_{\\pi}^+$. Граница разбивается на три промежутка, соответствующих различным областям на фазовой плоскости. Начнем построение кривой $\\Gamma_+$ двигаясь сверху вниз: $3 \\to 2 \\to 1$ (синий, зеленый, красный).\n",
    "\n",
    "Коллапс решений происходит только на промежутке отрицательного значения потенциала. Для простоты дальнейшего изложения полагаем этот промежуток равным $[0, \\pi/2]$ (в оригинальной работе $[\\pi/2, \\pi]$?)."
   ]
  },
  {
   "cell_type": "markdown",
   "metadata": {},
   "source": [
    "## Область (3)"
   ]
  },
  {
   "cell_type": "markdown",
   "metadata": {},
   "source": [
    "Решения в области (3) имеют вид:\n",
    "$$u_3(x) = \\dfrac{1}{\\sqrt{1 - 2k^2}} \\dfrac{\\textrm{sn}(\\theta_3, k) \\textrm{dn}(\\theta_3, k)}{\\textrm{cn}(\\theta_3, k)},$$\n",
    "где $\\theta_3 = \\dfrac{x - x_0}{\\sqrt{2 - 4k^2}}$. Стоит отметить, что траектории решений параметризуются эллиптическим модулем $k$. Каждому $k$ соответствует ровно одно решение в каждой области с точностью до сдвига $x_0$ (относительно которого инвариантно исходное уравнение)."
   ]
  },
  {
   "cell_type": "markdown",
   "metadata": {},
   "source": [
    "Граница множества $\\mathcal{U}_\\pi^+$ в области (3) состоит из точек начальных условий, решение из которых уходит на бесконечность в точке $\\pi/2$. Очевидно, что в этой точке обращается в ноль знаменатель $\\textrm{cn}(\\theta_3, k) = 0$. Из этого следует, что $\\theta_3 = \\dfrac{x - x_0}{\\sqrt{2 - 4k^2}} = \\textrm{K}(k)$ в точке $x = x^* = \\pi/2$, где $\\textrm{K}(k)$ - полный эллиптический интеграл 1-го рода."
   ]
  },
  {
   "cell_type": "markdown",
   "metadata": {},
   "source": [
    "## Область (2)"
   ]
  },
  {
   "cell_type": "markdown",
   "metadata": {},
   "source": [
    "## Область (1)"
   ]
  },
  {
   "cell_type": "markdown",
   "metadata": {},
   "source": [
    "# Численная проверка полученных построений"
   ]
  },
  {
   "cell_type": "code",
   "execution_count": 5,
   "metadata": {},
   "outputs": [],
   "source": [
    "# Some code here, use odeint"
   ]
  },
  {
   "cell_type": "markdown",
   "metadata": {},
   "source": [
    "# Доказательство $\\lim \\limits_{u \\to \\infty} ||\\Gamma_+ - \\Gamma_-|| \\to 0$"
   ]
  }
 ],
 "metadata": {
  "kernelspec": {
   "display_name": "Python 3",
   "language": "python",
   "name": "python3"
  },
  "language_info": {
   "codemirror_mode": {
    "name": "ipython",
    "version": 3
   },
   "file_extension": ".py",
   "mimetype": "text/x-python",
   "name": "python",
   "nbconvert_exporter": "python",
   "pygments_lexer": "ipython3",
   "version": "3.6.5"
  }
 },
 "nbformat": 4,
 "nbformat_minor": 2
}
