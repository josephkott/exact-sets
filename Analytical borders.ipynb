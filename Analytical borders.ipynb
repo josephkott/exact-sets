{
 "cells": [
  {
   "cell_type": "markdown",
   "metadata": {},
   "source": [
    "# Поиск аналитического выражения для границ множества $\\mathcal{U}_{\\pi}^+$"
   ]
  },
  {
   "cell_type": "markdown",
   "metadata": {},
   "source": [
    "<img src=\"borders.png\" alt=\"Drawing\" style=\"width: 300px;\"/>"
   ]
  },
  {
   "cell_type": "markdown",
   "metadata": {},
   "source": [
    "Множество $\\mathcal{U}_{\\pi}^+$ есть множество точек фазовой плоскости, для которых определено отображение Пуанкаре на промежутке за период кусочнопостоянного потенциала.\n",
    "\n",
    "Построим верхнюю границу множества $\\mathcal{U}_{\\pi}^+$. Граница разбивается на три промежутка, соответствующих различным областям на фазовой плоскости. Начнем построение кривой $\\Gamma_+$ двигаясь сверху вниз: $3 \\to 2 \\to 1$ (синий, зеленый, красный)."
   ]
  }
 ],
 "metadata": {
  "kernelspec": {
   "display_name": "Python 3",
   "language": "python",
   "name": "python3"
  },
  "language_info": {
   "codemirror_mode": {
    "name": "ipython",
    "version": 3
   },
   "file_extension": ".py",
   "mimetype": "text/x-python",
   "name": "python",
   "nbconvert_exporter": "python",
   "pygments_lexer": "ipython3",
   "version": "3.6.5"
  }
 },
 "nbformat": 4,
 "nbformat_minor": 2
}
