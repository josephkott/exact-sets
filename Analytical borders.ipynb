{
 "cells": [
  {
   "cell_type": "markdown",
   "metadata": {},
   "source": [
    "# Поиск аналитического выражения для границ множества $\\mathcal{U}_{\\pi}^+$"
   ]
  },
  {
   "cell_type": "markdown",
   "metadata": {},
   "source": [
    "Рассматривается уравнение:\n",
    "$$u_{xx} - u - u^3 = 0.$$\n",
    "Его фазовый портрет схематично изображен на рисунке ниже:"
   ]
  },
  {
   "cell_type": "markdown",
   "metadata": {},
   "source": [
    "<img src=\"borders.png\" alt=\"Drawing\" style=\"width: 300px;\"/>"
   ]
  },
  {
   "cell_type": "markdown",
   "metadata": {},
   "source": [
    "Множество $\\mathcal{U}_{\\pi}^+$ есть множество точек фазовой плоскости, для которых определено отображение Пуанкаре на промежутке за период кусочнопостоянного потенциала.\n",
    "\n",
    "Построим верхнюю границу множества $\\mathcal{U}_{\\pi}^+$. Граница разбивается на три промежутка, соответствующих различным областям на фазовой плоскости. Начнем построение кривой $\\Gamma_+$ двигаясь сверху вниз: $3 \\to 2 \\to 1$ (синий, зеленый, красный).\n",
    "\n",
    "Коллапс решений происходит только на промежутке отрицательного значения потенциала. Для простоты дальнейшего изложения полагаем этот промежуток равным $[0, \\pi/2]$ (в оригинальной работе $[\\pi/2, \\pi]$?)."
   ]
  },
  {
   "cell_type": "markdown",
   "metadata": {},
   "source": [
    "## Область (3)"
   ]
  },
  {
   "cell_type": "markdown",
   "metadata": {},
   "source": [
    "Решения в области (3) имеют вид:\n",
    "$$u_3(x) = \\dfrac{1}{\\sqrt{1 - 2k^2}} \\dfrac{\\textrm{sn}(\\theta_3, k) \\textrm{dn}(\\theta_3, k)}{\\textrm{cn}(\\theta_3, k)},$$\n",
    "где $\\theta_3 = \\dfrac{x - x_0}{\\sqrt{2 - 4k^2}}$, $k \\in \\left[0; \\frac{1}{\\sqrt{2}} \\right)$. Стоит отметить, что траектории решений параметризуются эллиптическим модулем $k$. Каждому $k$ соответствует ровно одно решение в каждой области с точностью до сдвига $x_0$ (относительно которого инвариантно исходное уравнение)."
   ]
  },
  {
   "cell_type": "markdown",
   "metadata": {},
   "source": [
    "Граница множества $\\mathcal{U}_\\pi^+$ в области (3) состоит из точек начальных условий $(u_3(0), u_3'(0))$, решение из которых уходит на бесконечность в точке $\\pi/2$. Очевидно, что в этой точке обращается в ноль знаменатель $\\textrm{cn}(\\theta_3, k) = 0$. Из этого следует, что $\\theta_3 = \\dfrac{x - x_0}{\\sqrt{2 - 4k^2}} = \\textrm{K}(k)$ в точке $x = x^* = \\pi/2$, где $\\textrm{K}(k)$ - полный эллиптический интеграл 1-го рода.\n",
    "\n",
    "Определяем зависимость $x_0(k) = x^* - \\sqrt{2 - 4k^2} K(k)$. Отсюда непосредственно следует **параметризация границы в области (3)**:\n",
    "$$u_3(k) = \\dfrac{1}{\\sqrt{1 - 2k^2}} \\dfrac{\\textrm{sn}(\\theta_3^0, k) \\textrm{dn}(\\theta_3^0, k)}{\\textrm{cn}(\\theta_3^0, k)};$$\n",
    "$$u_3'(k) = \\dfrac{\\sqrt{2}}{2 - 4k^2} \\dfrac{k^2 \\textrm{sn}^4(\\theta_3^0, k) - 2 k^2 \\textrm{sn}^2(\\theta_3^0, k) + 1}{\\textrm{cn}^2(\\theta_3^0, k)};$$\n",
    "\n",
    "где $\\theta_3^0(k) = \\theta_3(x, k)|_{x = 0} = \\dfrac{\\sqrt{2 - 4k^2} K(k) - x^*}{\\sqrt{2 - 4k^2}}$, $k \\in \\left[0; \\frac{1}{\\sqrt{2}} \\right)$."
   ]
  },
  {
   "cell_type": "markdown",
   "metadata": {},
   "source": [
    "### Точка I (красная звезда)"
   ]
  },
  {
   "cell_type": "markdown",
   "metadata": {},
   "source": [
    "Определим координаты точка I на фазовой плоскости. Она соответствует предельному случаю $k \\to 0$. При этом\n",
    "$$x_0 \\to x^* - \\dfrac{\\pi}{\\sqrt{2}} = \\dfrac{\\pi}{2} - \\dfrac{\\pi}{\\sqrt{2}} = -\\dfrac{\\pi}{2}(\\sqrt{2} - 1);$$\n",
    "$$u_3(x) \\to \\tan \\left( \\dfrac{x - x_0}{\\sqrt{2}} \\right);$$\n",
    "$$u_3'(x) \\to \\dfrac{1}{\\sqrt{2} \\cos^2 \\left( \\dfrac{x - x_0}{\\sqrt{2}} \\right)}.$$\n",
    "Получаем координаты точки I (красная звезда):\n",
    "$$u_{3,I} = u_3(0) = \\tan{\\dfrac{\\pi(\\sqrt{2} - 1)}{2\\sqrt{2}}} \\approx 0.4955;$$\n",
    "$$u_{3,I}' = u_3'(0) = \\dfrac{1}{\\sqrt{2} \\cos^2 \\left( \\dfrac{\\pi (\\sqrt{2} - 1)}{2\\sqrt{2}} \\right) } \\approx 0.8807.$$"
   ]
  },
  {
   "cell_type": "markdown",
   "metadata": {},
   "source": [
    "## Область (2)"
   ]
  },
  {
   "cell_type": "markdown",
   "metadata": {},
   "source": [
    "Решения в обасти (2) имеют вид:\n",
    "$$u_2(x) = \\dfrac{1 - k^2}{\\sqrt{k^2 + 1}} \\dfrac{\\textrm{sn}(\\theta_2, k)}{\\textrm{cn}(\\theta_2, k) \\textrm{dn} (\\theta_2, k)},$$\n",
    "где $\\theta_2 = \\dfrac{x - x_0}{\\sqrt{2k^2 + 2}}$, $k \\in [0, 1]$."
   ]
  },
  {
   "cell_type": "markdown",
   "metadata": {},
   "source": [
    "Граница множества $\\mathcal{U}_{\\pi}^+$ в области (2) состоит из точек начальных условий $(u_2(0), u_2'(0))$, решение из которых уходит на бесконечность в точке $\\pi/2$. Следовательно в этой точке имеет место равенство $\\textrm{cn}(\\theta_2, k)\\textrm{dn}(\\theta_2, k) = 0$; $\\textrm{dn}(\\theta_2, k) = \\sqrt{1 - k^2 \\textrm{sn}^2(\\theta_2, k)}$. От сюда следует, что $\\textrm{dn}(\\theta_2, k)$ может обращаться в ноль только в случае $k = 1$, однако при $k \\to 1$, решение $u_2(x)$ вырождается в нулевое. Следовательно, только $\\textrm{cn}(\\theta_2, k)$ может обращаться в ноль. Из этого опять же следует, что $\\theta_2 = \\dfrac{x - x_0}{\\sqrt{2k^2 + 2}} = \\textrm{K}(k)$ в точке $x = x^* = \\pi/2$. Аналогично получаем зависимость $x_0(k) = x^* - \\sqrt{2k^2 + 2}K(k)$. Запишем **параметризацию границы в области (2)**:\n",
    "$$u_2(k) = \\dfrac{1 - k^2}{\\sqrt{k^2 + 1}} \\dfrac{\\textrm{sn}(\\theta_2^0, k)}{\\textrm{cn}(\\theta_2^0, k) \\textrm{dn} (\\theta_2^0, k)};$$\n",
    "$$u_2'(k) = \\dfrac{\\sqrt{2}}{2k^2 + 2} \\dfrac{(k^2 \\textrm{sn}^4(\\theta_2^0, k) - 1)(k^2 - 1)}{\\textrm{cn}^2(\\theta_2^0, k) \\textrm{dn}^2 (\\theta_2^0, k)};$$\n",
    "где $\\theta_2^0(k) = \\theta_2(x, k)|_{x = 0} = \\dfrac{\\sqrt{2k^2 + 2} K(k) - x^*}{\\sqrt{2k^2 + 2}}$, $k \\in \\left[0; 1 \\right]$."
   ]
  },
  {
   "cell_type": "markdown",
   "metadata": {},
   "source": [
    "### Точка II (зеленая звезда)"
   ]
  },
  {
   "cell_type": "markdown",
   "metadata": {},
   "source": [
    "Точку II определим из следуюущих соображений: из какой точки ФП на сеператрисе (возрастающая кривая на ФП) $u(x) = -\\dfrac{\\sqrt{2}}{\\textrm{sh} (x - x_0)}$ нужно стартовать при $x = 0$, чтобы коллапсировать в момент $x = \\pi/2$? Очевидно, что $x_0 = \\pi/2$, значит\n",
    "$$u_{II} = u(0) = -\\dfrac{\\sqrt{2}}{\\textrm{sh}(-\\pi/2)} \\approx 0.6145;$$\n",
    "$$u_{II}' = u'(0) = \\dfrac{\\sqrt{2} \\textrm{ch}(-\\pi/2)}{\\textrm{sh}^2(-\\pi/2)} \\approx 0.6700.$$"
   ]
  },
  {
   "cell_type": "markdown",
   "metadata": {},
   "source": [
    "## Область (1)"
   ]
  },
  {
   "cell_type": "markdown",
   "metadata": {},
   "source": [
    "Решения в области (1) имеют вид:\n",
    "$$u_1(x) = \\dfrac{\\sqrt{2}}{\\sqrt{2k^2 - 1}} \\dfrac{\\textrm{dn}(\\theta_1, k)}{\\textrm{sn}(\\theta_1, k)},$$\n",
    "где $\\theta_1 = \\dfrac{x - x_0}{\\sqrt{2k^2 - 1}}$, $k \\in \\left(\\frac{1}{\\sqrt{2}}, 1 \\right]$."
   ]
  },
  {
   "cell_type": "markdown",
   "metadata": {},
   "source": [
    "Аналогично, границу $\\mathcal{U}_{\\pi}^+$ определяем по коллапсу решения в точке $\\textrm{sn}(\\theta_1, k) = 0$, $\\theta_1 = 0$, $\\dfrac{x - x_0}{\\sqrt{2k^2 - 1}} = 0$, $x_0 = x^* = \\pi/2$. В этом случае $x_0$ не зависит от $k$, что упрощает параметризацию:\n",
    "$$u_1(k) = \\dfrac{\\sqrt{2}}{\\sqrt{2k^2 - 1}} \\dfrac{\\textrm{dn}(\\theta_1^0, k)}{\\textrm{sn}(\\theta_1^0, k)};$$\n",
    "$$u_1'(k) = -\\dfrac{\\sqrt{2}}{(2k^2 - 1)} \\dfrac{\\textrm{cn}(\\theta_1^0, k)}{\\textrm{sn}^2(\\theta_1^0, k)},$$\n",
    "где $\\theta_1^0(k) = \\theta_1(x, k)|_{x = 0} = \\dfrac{ - x^*}{\\sqrt{2k^2 - 1}}$, $k \\in \\left(\\frac{1}{\\sqrt{2}}, 1 \\right]$."
   ]
  },
  {
   "cell_type": "markdown",
   "metadata": {},
   "source": [
    "# Численная проверка полученных построений"
   ]
  },
  {
   "cell_type": "code",
   "execution_count": 13,
   "metadata": {},
   "outputs": [
    {
     "name": "stdout",
     "output_type": "stream",
     "text": [
      "Zero solution [0, 0]: False\n",
      "Point [1, 1] (far away from I and II): True\n",
      "Point [0.5, 0.5 (under I and II)]: False\n"
     ]
    }
   ],
   "source": [
    "# Transform equation u_{xx} - u - u^3 = 0 to the system\n",
    "def f(x, u):\n",
    "    return (u[1], u[0] + u[0] ** 3)\n",
    "\n",
    "\n",
    "from scipy.integrate import odeint\n",
    "from numpy import linspace, pi\n",
    "\n",
    "# I turn off warnings because odeint produce them if the collapse occurs.\n",
    "# Actually it does not terminate integration in this case, but I don't care at this stage.\n",
    "# Another more suitable function should be use here in future.\n",
    "import warnings\n",
    "warnings.filterwarnings('ignore')\n",
    "\n",
    "# Function that can answer the question: does the collapse occur on the interval from 0 to pi/2?\n",
    "def is_collapse(u0, du0):\n",
    "    # I use very rough grid to speed up computations here.\n",
    "    # I think it's OK for testing of my parametrization.\n",
    "    x = linspace(0, pi / 2, 100)\n",
    "    solution = odeint(f, (u0, du0), x, tfirst=True)\n",
    "    return max(solution[:, 0]) > 1e6\n",
    "\n",
    "# Simple test\n",
    "print('Zero solution [0, 0]: %r' % is_collapse(0, 0))\n",
    "print('Point [1, 1] (far away from I and II): %r' % is_collapse(1, 1))\n",
    "print('Point [0.5, 0.5 (under I and II)]: %r' % is_collapse(0.5, 0.5))"
   ]
  },
  {
   "cell_type": "code",
   "execution_count": null,
   "metadata": {},
   "outputs": [],
   "source": [
    "import numpy as np\n",
    "\n",
    "from scipy.special import ellipj\n",
    "\n"
   ]
  },
  {
   "cell_type": "markdown",
   "metadata": {},
   "source": [
    "# Доказательство $\\lim \\limits_{u \\to \\infty} ||\\Gamma_+ - \\Gamma_-|| \\to 0$"
   ]
  }
 ],
 "metadata": {
  "kernelspec": {
   "display_name": "Python 3",
   "language": "python",
   "name": "python3"
  },
  "language_info": {
   "codemirror_mode": {
    "name": "ipython",
    "version": 3
   },
   "file_extension": ".py",
   "mimetype": "text/x-python",
   "name": "python",
   "nbconvert_exporter": "python",
   "pygments_lexer": "ipython3",
   "version": "3.6.5"
  }
 },
 "nbformat": 4,
 "nbformat_minor": 2
}
